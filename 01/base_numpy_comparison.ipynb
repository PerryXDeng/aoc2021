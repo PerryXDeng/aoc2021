{
 "cells": [
  {
   "cell_type": "code",
   "execution_count": 30,
   "id": "4480813a-2621-4fe9-817f-2e775edfdc7a",
   "metadata": {},
   "outputs": [],
   "source": [
    "def base_solution_p1():\n",
    "    with open(\"input.txt\") as f:\n",
    "        lines = f.readlines()\n",
    "    l = list(map(lambda l:int(l.rstrip()), lines))\n",
    "    non_zero_indices = range(1, len(l))\n",
    "    greater_than_previous= map(lambda i:1 if l[i] > l[i-1] else 0, non_zero_indices)\n",
    "    return sum(greater_than_previous)\n",
    "\n",
    "def numpy_solution_p1():\n",
    "    import numpy as np\n",
    "    arr = np.loadtxt(\"input.txt\")\n",
    "    differences = np.diff(arr)\n",
    "    return np.sum(differences > 0)"
   ]
  },
  {
   "cell_type": "code",
   "execution_count": 4,
   "id": "79a6aa77-b5e7-4c86-88c4-7d0b9542706f",
   "metadata": {},
   "outputs": [
    {
     "data": {
      "text/plain": [
       "1301"
      ]
     },
     "execution_count": 4,
     "metadata": {},
     "output_type": "execute_result"
    }
   ],
   "source": [
    "base_solution_p1()"
   ]
  },
  {
   "cell_type": "code",
   "execution_count": 5,
   "id": "7e8815e5-eb6d-4929-9b1b-ed4996acecd4",
   "metadata": {},
   "outputs": [
    {
     "data": {
      "text/plain": [
       "1301"
      ]
     },
     "execution_count": 5,
     "metadata": {},
     "output_type": "execute_result"
    }
   ],
   "source": [
    "numpy_solution_p1()"
   ]
  },
  {
   "cell_type": "code",
   "execution_count": 32,
   "id": "38883e5e-0f2d-4a4d-8ddd-891d80a88a0a",
   "metadata": {},
   "outputs": [
    {
     "name": "stdout",
     "output_type": "stream",
     "text": [
      "531 µs ± 1.13 µs per loop (mean ± std. dev. of 7 runs, 1000 loops each)\n"
     ]
    }
   ],
   "source": [
    "%%timeit\n",
    "base_solution_p1()"
   ]
  },
  {
   "cell_type": "code",
   "execution_count": 31,
   "id": "0871c40b-d09c-41c6-a1c2-6f4dd903a31b",
   "metadata": {},
   "outputs": [
    {
     "name": "stdout",
     "output_type": "stream",
     "text": [
      "2.77 ms ± 16.5 µs per loop (mean ± std. dev. of 7 runs, 100 loops each)\n"
     ]
    }
   ],
   "source": [
    "%%timeit\n",
    "numpy_solution_p1()"
   ]
  },
  {
   "cell_type": "code",
   "execution_count": 10,
   "id": "a9f6d494-70fe-47f6-ba4a-b9585738d67f",
   "metadata": {},
   "outputs": [
    {
     "name": "stdout",
     "output_type": "stream",
     "text": [
      "79.4 µs ± 881 ns per loop (mean ± std. dev. of 7 runs, 10000 loops each)\n"
     ]
    }
   ],
   "source": [
    "%%timeit\n",
    "with open(\"input.txt\") as f:\n",
    "    lines = f.readlines()"
   ]
  },
  {
   "cell_type": "code",
   "execution_count": 9,
   "id": "a50b77fc-968b-4241-981b-5aa6fb039cc5",
   "metadata": {},
   "outputs": [
    {
     "name": "stdout",
     "output_type": "stream",
     "text": [
      "2.86 ms ± 226 µs per loop (mean ± std. dev. of 7 runs, 100 loops each)\n"
     ]
    }
   ],
   "source": [
    "%%timeit\n",
    "import numpy as np\n",
    "np.loadtxt(\"input.txt\")"
   ]
  },
  {
   "cell_type": "code",
   "execution_count": 23,
   "id": "8050931d-5f72-47f3-a3bc-1d57262538a7",
   "metadata": {},
   "outputs": [],
   "source": [
    "with open(\"input.txt\") as f:\n",
    "        lines = f.readlines()\n",
    "l = list(map(lambda l:int(l.rstrip()), lines))\n",
    "\n",
    "import numpy as np\n",
    "arr = np.loadtxt(\"input.txt\")\n",
    "\n",
    "def base_p2():\n",
    "    l_windows = list(map(lambda i:l[i-2] + l[i-1] + l[i], range(2, len(l))))\n",
    "    greater_than_previous= map(lambda i:1 if l_windows[i] > l_windows[i-1] else 0, range(1, len(l_windows)))\n",
    "    return sum(greater_than_previous)\n",
    "\n",
    "def np_p2():\n",
    "    return np.sum(np.diff(np.convolve(arr, np.ones(3,dtype=int),'valid')) > 0)"
   ]
  },
  {
   "cell_type": "code",
   "execution_count": 21,
   "id": "ff06d6e4-0f45-47be-9fd7-b33ff68308b3",
   "metadata": {},
   "outputs": [
    {
     "data": {
      "text/plain": [
       "1346"
      ]
     },
     "execution_count": 21,
     "metadata": {},
     "output_type": "execute_result"
    }
   ],
   "source": [
    "base_p2()"
   ]
  },
  {
   "cell_type": "code",
   "execution_count": 24,
   "id": "653cdcd3-6c4a-438e-a268-29c21ceb140c",
   "metadata": {},
   "outputs": [
    {
     "data": {
      "text/plain": [
       "1346"
      ]
     },
     "execution_count": 24,
     "metadata": {},
     "output_type": "execute_result"
    }
   ],
   "source": [
    "np_p2()"
   ]
  },
  {
   "cell_type": "code",
   "execution_count": 25,
   "id": "0f1b9158-9cb5-4734-aea1-39106288872a",
   "metadata": {},
   "outputs": [
    {
     "name": "stdout",
     "output_type": "stream",
     "text": [
      "12 ns ± 0.0371 ns per loop (mean ± std. dev. of 7 runs, 100000000 loops each)\n"
     ]
    }
   ],
   "source": [
    "%%timeit\n",
    "base_p2"
   ]
  },
  {
   "cell_type": "code",
   "execution_count": 27,
   "id": "b06ae442-1f0e-470a-838a-1ed4a5565851",
   "metadata": {},
   "outputs": [
    {
     "name": "stdout",
     "output_type": "stream",
     "text": [
      "13.3 ns ± 0.0218 ns per loop (mean ± std. dev. of 7 runs, 100000000 loops each)\n"
     ]
    }
   ],
   "source": [
    "%%timeit\n",
    "np_p2"
   ]
  }
 ],
 "metadata": {
  "kernelspec": {
   "display_name": "Python 3",
   "language": "python",
   "name": "python3"
  },
  "language_info": {
   "codemirror_mode": {
    "name": "ipython",
    "version": 3
   },
   "file_extension": ".py",
   "mimetype": "text/x-python",
   "name": "python",
   "nbconvert_exporter": "python",
   "pygments_lexer": "ipython3",
   "version": "3.8.12"
  }
 },
 "nbformat": 4,
 "nbformat_minor": 5
}
