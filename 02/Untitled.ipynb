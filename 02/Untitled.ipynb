{
 "cells": [
  {
   "cell_type": "code",
   "execution_count": 1,
   "id": "d1bd8bee-6f56-4472-b58e-f41667b9b412",
   "metadata": {},
   "outputs": [],
   "source": [
    "with open(\"input.txt\") as f:\n",
    "    lines = f.readlines()"
   ]
  },
  {
   "cell_type": "code",
   "execution_count": 81,
   "id": "35807d93-5e94-4485-b4b4-9fd916327862",
   "metadata": {},
   "outputs": [
    {
     "data": {
      "text/plain": [
       "2027977"
      ]
     },
     "execution_count": 81,
     "metadata": {},
     "output_type": "execute_result"
    }
   ],
   "source": [
    "from functools import reduce\n",
    "from operator import add\n",
    "-1 * reduce(lambda e1, e2: e1*e2, reduce(lambda l1, l2: list(map(add, l1, l2)), map(lambda words: [(words[0]==\"forward\") * int(words[1]), ((words[0]==\"up\") + (-1 * (words[0]==\"down\"))) * int(words[1])], map(lambda line: line.split(), lines))))"
   ]
  }
 ],
 "metadata": {
  "kernelspec": {
   "display_name": "Python 3",
   "language": "python",
   "name": "python3"
  },
  "language_info": {
   "codemirror_mode": {
    "name": "ipython",
    "version": 3
   },
   "file_extension": ".py",
   "mimetype": "text/x-python",
   "name": "python",
   "nbconvert_exporter": "python",
   "pygments_lexer": "ipython3",
   "version": "3.8.12"
  }
 },
 "nbformat": 4,
 "nbformat_minor": 5
}
